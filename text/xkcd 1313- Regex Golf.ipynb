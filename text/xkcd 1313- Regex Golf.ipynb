{
 "cells": [
  {
   "cell_type": "markdown",
   "metadata": {},
   "source": [
    "## [Original article from Peter Norvig's notebook](http://nbviewer.jupyter.org/url/norvig.com/ipython/xkcd1313.ipynb)"
   ]
  },
  {
   "cell_type": "markdown",
   "metadata": {},
   "source": [
    "## My Notes\n",
    "- It seems that most of Peter Norvig's puzzle solutions have some common features, not sure if he did explcitly or implicitly, e.g.,\n",
    "    - Have the \"tests\" ready AEAP as a way of defining the problem\n",
    "    - Define the glossary, and utlity function, in a domain-specific language style\n",
    "    - Iterative approaching: come with baseline, approximations\n",
    "    - Always back solutions with analysis: when it does/doesn't work, what's the pros and cons, what is the complexity, etc."
   ]
  },
  {
   "cell_type": "markdown",
   "metadata": {},
   "source": [
    "## Defining the problems (through tests...)\n",
    "- find a regular expression that matches all the positive strings, and anti-matches all negative strings\n",
    "\n",
    "### Usually elaboration of problem leads to representation/data structures and etc.\n",
    "- regular expression: python `re` pattern\n",
    "- postitive/negative strings: a set of strings\n",
    "- match/not match: search(re_expr, str) == None\n",
    "\n",
    "### and finally, we need to define the test cases"
   ]
  },
  {
   "cell_type": "code",
   "execution_count": 9,
   "metadata": {
    "collapsed": true
   },
   "outputs": [],
   "source": [
    "import re"
   ]
  },
  {
   "cell_type": "code",
   "execution_count": 31,
   "metadata": {
    "collapsed": true
   },
   "outputs": [],
   "source": [
    "# we could define the yes/no test directly, but\n",
    "# better to provide some details, for debugging purpose\n",
    "\n",
    "def mistakes(pat, positives, negatives):\n",
    "    \"\"\"\n",
    "    - pat: regular expression\n",
    "    - positives: a set of strings to match\n",
    "    - negatives: a set of strings to anti-match\n",
    "    - returns: a set of mistaken strings with labels\n",
    "    \"\"\"\n",
    "    return ({\"missed positive %s\" % p \n",
    "             for p in positives if not pat.search(p)} | \n",
    "            {\"missed negative %s\" % n\n",
    "             for n in negatives if pat.search(n)})\n",
    "\n",
    "def verify(pat, positives, negatives):\n",
    "    if type(pat) is str:\n",
    "        pat = re.compile(pat)\n",
    "    assert not mistakes(pat, positives, negatives)\n",
    "    return True"
   ]
  },
  {
   "cell_type": "markdown",
   "metadata": {},
   "source": [
    "## Strategy for Solutions\n",
    "\n",
    "Again it seems that Peter Norvig has seveal \"patterns\" on attaching a problem, which have interesting correlations with [\"How to Solve it\"](https://www.amazon.com/How-Solve-Mathematical-Princeton-Science/dp/069116407X/ref=sr_1_1?ie=UTF8&qid=1493345035&sr=8-1&keywords=how+to+solve+it).\n",
    "\n",
    "- try different special cases to gain insights, if you have no clue how to start at all\n",
    "- link it to recognized problem, e.g., Peter Norvig links it to \"set cover\" problem\n",
    "- analysis solutions, pros/cons, complexity and etc.\n",
    "\n",
    "__Read the original article for insights of Peter Norvig's solution, and how he analyzed it.__\n",
    "\n",
    "So in summary, the solution is like\n",
    "- come up with basic elements for composing partial solutions, i.e., regexs that match at least one positive, without matching any negative\n",
    "- with that, it is a search problem, and using greedy search is usually a good approximation to NP prolem like set-cover-problem\n",
    "- define the utility functions as close to the domain-specific language as possible"
   ]
  },
  {
   "cell_type": "code",
   "execution_count": 32,
   "metadata": {
    "collapsed": true
   },
   "outputs": [],
   "source": [
    "import itertools\n",
    "\n",
    "def findregex(winners, losers, k=4):\n",
    "    \"Find a regex that matches all winners but no losers (sets of strings).\"\n",
    "    # Make a pool of regex parts, then pick from them to cover winners.\n",
    "    # On each iteration, add the 'best' part to 'solution',\n",
    "    # remove winners covered by best, and keep in 'pool' only parts\n",
    "    # that still match some winner.\n",
    "    pool = regex_parts(winners, losers)\n",
    "    solution = []\n",
    "    def score(part): return k * len(matches(part, winners)) - len(part)\n",
    "    while winners:\n",
    "        best = max(pool, key=score)\n",
    "        solution.append(best)\n",
    "        winners = winners - matches(best, winners)\n",
    "        pool = {r for r in pool if matches(r, winners)}\n",
    "    return OR(solution)\n",
    "\n",
    "def matches(regex, strings):\n",
    "    \"Return a set of all the strings that are matched by regex.\"\n",
    "    return {s for s in strings if re.search(regex, s)}\n",
    "\n",
    "OR = '|'.join # Join a sequence of strings with '|' between them"
   ]
  },
  {
   "cell_type": "code",
   "execution_count": 33,
   "metadata": {
    "collapsed": true
   },
   "outputs": [],
   "source": [
    "def regex_parts(winners, losers):\n",
    "    \"Return parts that match at least one winner, but no loser.\"\n",
    "    wholes = {'^' + w + '$'  for w in winners}\n",
    "    parts = {d for w in wholes for p in subparts(w) for d in dotify(p)}\n",
    "    return wholes | {p for p in parts if not matches(p, losers)}\n",
    "\n",
    "def subparts(word, N=4):\n",
    "    \"Return a set of subparts of word: consecutive characters up to length N (default 4).\"\n",
    "    return set(word[i:i+n+1] for i in range(len(word)) for n in range(N)) \n",
    "    \n",
    "def dotify(part):\n",
    "    \"Return all ways to replace a subset of chars in part with '.'.\"\n",
    "    choices = map(replacements, part)\n",
    "    return {cat(chars) for chars in itertools.product(*choices)}\n",
    "\n",
    "def replacements(c): return c if c in '^$' else c + '.'\n",
    "\n",
    "cat = ''.join"
   ]
  },
  {
   "cell_type": "code",
   "execution_count": 48,
   "metadata": {
    "collapsed": false
   },
   "outputs": [
    {
     "data": {
      "text/plain": [
       "(11, 'e.$|a.$|a.o')"
      ]
     },
     "execution_count": 48,
     "metadata": {},
     "output_type": "execute_result"
    }
   ],
   "source": [
    "def words(s):\n",
    "    return set(s.split())\n",
    "\n",
    "positives = words('jacob mason ethan noah william liam jayden michael alexander aiden')\n",
    "negatives = words('sophia emma isabella olivia ava emily abigail mia madison elizabeth')\n",
    "solution = findregex(positives, negatives)\n",
    "verify(solution, positives, negatives)\n",
    "\n",
    "len(solution), solution"
   ]
  },
  {
   "cell_type": "code",
   "execution_count": 51,
   "metadata": {
    "collapsed": false
   },
   "outputs": [],
   "source": [
    "pat = re.compile(solution)\n",
    "pat.search(\"michelle\")"
   ]
  },
  {
   "cell_type": "markdown",
   "metadata": {},
   "source": [
    "The learnt regular expression can be thought of as a disjuction of different \"features\""
   ]
  },
  {
   "cell_type": "code",
   "execution_count": 63,
   "metadata": {
    "collapsed": false
   },
   "outputs": [
    {
     "data": {
      "text/plain": [
       "' '"
      ]
     },
     "execution_count": 63,
     "metadata": {},
     "output_type": "execute_result"
    }
   ],
   "source": [
    "solution = findregex(set([\"I love\", \"I hate\"]), set([\"I\", \"love\", \"hate\"]))\n",
    "solution"
   ]
  },
  {
   "cell_type": "markdown",
   "metadata": {},
   "source": [
    "## Reflections\n",
    "\n",
    "I love the reflection part the most. Peter Norvig has a very clear understanding (or instinct) about what approachs are the best for what problems. Of course it takes a lot of experiences to build it.\n",
    "```\n",
    "I was asked whether Randall was wrong to come up with \"only\" a 10-character Star Wars regex, whereas I showed there is a 9-character version. I would say that, given his role as a cartoonist, author, public speaker, educator, and entertainer, he has chosen ... wisely. He wrote a program that was good enough to allow him to make a great webcomic. A 9-character regex would not improve the comic. Randall stated that he used a genetic algorithm to find his regexes, and it has been said that genetic algorithms are often the second (or was it the third?) best method to solve any problem, and that's all he needed. But if you consider that in addition to all those roles, Randall is also still a practicing computer scientist, you could say he chose ... poorly. Genetic algorithms are good when you want to combine the structure of two solutions to yield a better solution, so they would work well if the best regexes had a complicated tree structure. But they don't! The best solutions are disjunctions of small parts. So the genetic algorithm is trying to combine the first half of one disjunction with the second half of another—but that isn't useful, because the components of a disjunction are unordered; imposing an ordering on them doesn't help.\n",
    "```"
   ]
  },
  {
   "cell_type": "code",
   "execution_count": null,
   "metadata": {
    "collapsed": true
   },
   "outputs": [],
   "source": []
  }
 ],
 "metadata": {
  "kernelspec": {
   "display_name": "Python 3",
   "language": "python",
   "name": "python3"
  },
  "language_info": {
   "codemirror_mode": {
    "name": "ipython",
    "version": 3
   },
   "file_extension": ".py",
   "mimetype": "text/x-python",
   "name": "python",
   "nbconvert_exporter": "python",
   "pygments_lexer": "ipython3",
   "version": "3.6.0"
  }
 },
 "nbformat": 4,
 "nbformat_minor": 2
}

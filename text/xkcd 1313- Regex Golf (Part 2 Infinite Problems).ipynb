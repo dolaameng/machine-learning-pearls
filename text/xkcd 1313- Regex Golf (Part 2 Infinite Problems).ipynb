{
 "cells": [
  {
   "cell_type": "markdown",
   "metadata": {},
   "source": [
    "This is the part of Peter Norvig's exploration on regular expression golf.\n",
    "\n",
    "[Original Article](http://nbviewer.jupyter.org/url/norvig.com/ipython/xkcd1313-part2.ipynb?create=1)"
   ]
  },
  {
   "cell_type": "markdown",
   "metadata": {},
   "source": [
    "It is more like a \"refactoring\" of part 1, involving iterative reflection, improvement, analysis, testing and etc."
   ]
  },
  {
   "cell_type": "markdown",
   "metadata": {},
   "source": [
    "## My notes\n",
    "- to benchmark and profile a program, you need proper testing.\n",
    "- to test properly, you need cheap and effective ways of getting more data!"
   ]
  },
  {
   "cell_type": "markdown",
   "metadata": {},
   "source": [
    "Another related piece of work is [Weighted Finite State Transducers](http://nbviewer.jupyter.org/url/nlpa.iupr.com/resources/nlpa-openfst.ipynb?attredirects=0&create=1) by  Thomas Breuel."
   ]
  },
  {
   "cell_type": "code",
   "execution_count": null,
   "metadata": {
    "collapsed": true
   },
   "outputs": [],
   "source": []
  }
 ],
 "metadata": {
  "kernelspec": {
   "display_name": "Python 3",
   "language": "python",
   "name": "python3"
  },
  "language_info": {
   "codemirror_mode": {
    "name": "ipython",
    "version": 3
   },
   "file_extension": ".py",
   "mimetype": "text/x-python",
   "name": "python",
   "nbconvert_exporter": "python",
   "pygments_lexer": "ipython3",
   "version": "3.6.0"
  }
 },
 "nbformat": 4,
 "nbformat_minor": 2
}

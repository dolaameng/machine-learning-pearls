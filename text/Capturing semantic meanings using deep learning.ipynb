{
 "cells": [
  {
   "cell_type": "markdown",
   "metadata": {},
   "source": [
    "- [original article](https://www.oreilly.com/learning/capturing-semantic-meanings-using-deep-learning) from O'Reilly media\n",
    "- [github](https://github.com/liorshk/wordembedding-hebrew)"
   ]
  },
  {
   "cell_type": "markdown",
   "metadata": {},
   "source": [
    "## using gensim to train word2vec model in cbow or skip-gram"
   ]
  },
  {
   "cell_type": "markdown",
   "metadata": {},
   "source": [
    "## using facebook fasttext to create vector repr \n",
    "- https://arxiv.org/pdf/1607.04606v1.pdf"
   ]
  },
  {
   "cell_type": "code",
   "execution_count": 21,
   "metadata": {
    "collapsed": false
   },
   "outputs": [],
   "source": [
    "import numpy as np\n",
    "from numpy.linalg import norm\n",
    "from scipy.spatial import distance"
   ]
  },
  {
   "cell_type": "code",
   "execution_count": 40,
   "metadata": {
    "collapsed": false
   },
   "outputs": [
    {
     "name": "stdout",
     "output_type": "stream",
     "text": [
      "CPU times: user 12min 9s, sys: 7.3 s, total: 12min 17s\n",
      "Wall time: 3min 33s\n"
     ]
    }
   ],
   "source": [
    "%%time\n",
    "\n",
    "import fasttext\n",
    "infile = \"/Users/pmal252d/data/text8\"\n",
    "outfile = \"../output/fasttext-cbow.model\"\n",
    "model = fasttext.cbow(infile, outfile)\n",
    "# model = fasttext.skipgram(infile, outfile)"
   ]
  },
  {
   "cell_type": "code",
   "execution_count": 43,
   "metadata": {
    "collapsed": false
   },
   "outputs": [],
   "source": [
    "woman, man = model[\"woman\"], model[\"man\"]\n",
    "queen, king = model[\"queen\"], model[\"king\"]\n",
    "woman, man, queen, king = map(np.array, [woman, man, queen, king])\n",
    "v = man + queen - king #=woman\n",
    "\n",
    "scores = []\n",
    "for word in model.words:\n",
    "    wv = np.array(model[word])\n",
    "    score = np.dot(v/norm(v), wv/norm(wv))\n",
    "    scores.append([word, score])"
   ]
  },
  {
   "cell_type": "code",
   "execution_count": 44,
   "metadata": {
    "collapsed": false
   },
   "outputs": [
    {
     "data": {
      "text/plain": [
       "[['man', 0.79166211838771183],\n",
       " ['woman', 0.72714729629320662],\n",
       " ['catwoman', 0.70475498947628767],\n",
       " ['beaman', 0.60675864571487759],\n",
       " ['mane', 0.58888287570420517]]"
      ]
     },
     "execution_count": 44,
     "metadata": {},
     "output_type": "execute_result"
    }
   ],
   "source": [
    "sorted(scores, key=lambda kv: -kv[1])[:5]"
   ]
  },
  {
   "cell_type": "code",
   "execution_count": null,
   "metadata": {
    "collapsed": true
   },
   "outputs": [],
   "source": []
  }
 ],
 "metadata": {
  "kernelspec": {
   "display_name": "Python 3",
   "language": "python",
   "name": "python3"
  },
  "language_info": {
   "codemirror_mode": {
    "name": "ipython",
    "version": 3
   },
   "file_extension": ".py",
   "mimetype": "text/x-python",
   "name": "python",
   "nbconvert_exporter": "python",
   "pygments_lexer": "ipython3",
   "version": "3.6.0"
  }
 },
 "nbformat": 4,
 "nbformat_minor": 2
}

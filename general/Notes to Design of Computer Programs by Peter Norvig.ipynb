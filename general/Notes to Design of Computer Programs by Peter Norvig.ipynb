{
 "cells": [
  {
   "cell_type": "markdown",
   "metadata": {},
   "source": [
    "# Notes to Udacity Course Design of Computer Programs \n",
    "\n",
    "This is my revisiting notes during Peter Norvig's course after I finished it the first time several years ago. "
   ]
  },
  {
   "cell_type": "markdown",
   "metadata": {},
   "source": [
    "## How to learn\n",
    "\n",
    "First Peter Norvig gave specific suggestions on how to learn in the course, or more generally in your career. The most important point to is to take the \"apprentice role\", meaning,\n",
    "\n",
    "1. Try it yourself before you look at the answer\n",
    "2. If you have solved it, always reflect on the answer from the master to see differences.\n",
    "3. If you cannot solve it, peek at the answer but not the whole thing, and repeat from step 1."
   ]
  },
  {
   "cell_type": "markdown",
   "metadata": {},
   "source": [
    "## Design Process\n",
    "\n",
    "**??** (very vague situation) --*Understand*--> **Problem** --*Specify*--> **Specs** --*Design*--> **Code (with tests)** "
   ]
  },
  {
   "cell_type": "markdown",
   "metadata": {},
   "source": [
    "## Toolkit for design process\n",
    "\n",
    "### Understand the problem\n",
    "1. To understand the problem, start with coming up a set of \"concepts\" that are related to the domain. It is quite similiar to finding the objects and relations via an OOP approach.\n",
    "2. When is it good to move to the next step? Usally you need to at least get familiar with the ***data*** you have (e.g. constructing some objects), and know how to ***operate*** on them. *so that you can move to writing down the specifications which are usually represented as a set of tests.*\n",
    "3. Taking poker game as an example, we might start with understanding what is a `hand`, what is the `suit` and `rank` of a card, the `rank` of a hand and etc.\n",
    "\n",
    "### Find a representation\n",
    "1. After you got some \"concepts\" (or objects) from the last step, naturally the next question to ask is what will be the possible candidate representations to your data.\n",
    "2. It is usually hard to say which represenations are better than others at this stage, and it is totally fine to change your mind later.\n",
    "3. The point is, you want to have something concrete as early as possible, so that you can focus on specifications/tests to move you to the next step.\n",
    "4. The choice of represenations usually boils down to the constraints, dependency with each other.\n",
    "\n",
    "### Find the boundary of a system/subsystem\n",
    "1. It's almost always helpful to start with thinking about the inputs and outputs\n",
    "2. Just like the suggestion from \"how to solve it\", a common question to ask for a system implementation is - have you seen similiar questions before, or is there a builtin function in your library, or what problem does it look to you - usually it helsp to translate the new problem to a one that you are familiar, e.g., sorting, finding nearest neighbor, classification/regression, ranking, recommendation and etc.\n",
    "\n",
    "### Start tests early\n",
    "1. It is fine if your design/code is not totally test driven. But most of its implemenation should be unit-test-driven.\n",
    "2. Tests are essentially the contract between the \"designer you\" and the \"implementer you\". And you have to switch between those two roles all the time in the design process.\n",
    "3. `It is important that each part of the specifications gets turned into a piece of code that implements it and a test that tests it.`\n",
    "4. Some tests/specifications server as \"wishful thinking\" for your implementation, and drives how the implementation should go.\n",
    "5. Tests also get you start to work on concrete examples. When combined with wishful thinking, this could help with the design decisions.\n",
    "6. Extreme values are useful in tests.\n",
    "7. Also useful to test for scalability.\n",
    "\n",
    "\n",
    "### Reflection on decisions\n",
    "1. Tests are also a kind of reflection.\n",
    "2. For most of the decisions made, you should be clear about the pros and cons and their contexts (e.g., conditions, constraints).\n",
    "3. Those are extremely important when you are communicating your design ideas to others.\n",
    "4. It is usually followed by a refactorization.\n",
    "5. `The amount of change should be proportional to the amount of change in the conceptualization.` - so it always helpful to come up with some estimate of changes when you reflect on your design/implementation.\n",
    "6. Reflection and design is iterative.\n",
    "\n",
    "\n",
    "### Aesthetics\n",
    "1. Those are usually the \"gut feeling\" (or \"aha\") part in the design process\n",
    "2. Good solutions are usually \n",
    "    - simple\n",
    "    - could directly translatable to human languages!\n",
    "    - open-to-extension-but-close-to-modification,\n",
    "    - easy-to-test\n",
    "    - has a certain amount of part resued.\n",
    "3. Wishful thinking goes a long way in picking simpler solutions.\n",
    "4. Prefer unified way (e.g. polymorphsim) to a set of explicit rules\n",
    "\n",
    "### Bottom line\n",
    "1. Your design, implementation, changes and tests should be as close to the concepts int the domain as possible."
   ]
  },
  {
   "cell_type": "code",
   "execution_count": null,
   "metadata": {
    "collapsed": true
   },
   "outputs": [],
   "source": []
  }
 ],
 "metadata": {
  "kernelspec": {
   "display_name": "Python 3",
   "language": "python",
   "name": "python3"
  },
  "language_info": {
   "codemirror_mode": {
    "name": "ipython",
    "version": 3
   },
   "file_extension": ".py",
   "mimetype": "text/x-python",
   "name": "python",
   "nbconvert_exporter": "python",
   "pygments_lexer": "ipython3",
   "version": "3.6.0"
  }
 },
 "nbformat": 4,
 "nbformat_minor": 2
}
